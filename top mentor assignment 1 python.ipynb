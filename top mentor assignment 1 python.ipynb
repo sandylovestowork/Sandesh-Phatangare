{
 "cells": [
  {
   "cell_type": "code",
   "execution_count": 1,
   "metadata": {
    "scrolled": true
   },
   "outputs": [
    {
     "data": {
      "text/plain": [
       "'This is just to show how to store value in variable and print the same.'"
      ]
     },
     "execution_count": 1,
     "metadata": {},
     "output_type": "execute_result"
    }
   ],
   "source": [
    "## Store a message in a variable, and then print that message.\n",
    "\n",
    "Basic_msg = \"This is just to show how to store value in variable and print the same.\"\n",
    "Basic_msg"
   ]
  },
  {
   "cell_type": "code",
   "execution_count": 2,
   "metadata": {},
   "outputs": [
    {
     "name": "stdout",
     "output_type": "stream",
     "text": [
      "This is the original message.\n",
      "This is updated message.\n"
     ]
    }
   ],
   "source": [
    "## Store a message in a variable andprint that message. Then change the value of your variable to a new message andprint the new message.\n",
    "\n",
    "Changemsg = \"This is the original message.\"\n",
    "print(Changemsg)\n",
    "Changemsg = \"This is updated message.\"\n",
    "print(Changemsg)"
   ]
  },
  {
   "cell_type": "code",
   "execution_count": 3,
   "metadata": {},
   "outputs": [
    {
     "name": "stdout",
     "output_type": "stream",
     "text": [
      "Please Enter your name: sandesh\n",
      "Hello,  sandesh Python is easy language. Would you like to learn more about python today?\n"
     ]
    }
   ],
   "source": [
    "## Store a person’s name in a variable andprint a message to that person.\n",
    "\n",
    "User_name = input(\"Please Enter your name: \")\n",
    "User_message = print(\"Hello, \",User_name,\"Python is easy language. Would you like to learn more about python today?\")"
   ]
  },
  {
   "cell_type": "code",
   "execution_count": 6,
   "metadata": {},
   "outputs": [
    {
     "name": "stdout",
     "output_type": "stream",
     "text": [
      " Albert Einstein once said, “A person who never made a mistake never tried anything new.” \n"
     ]
    }
   ],
   "source": [
    "##Print the quote and the name of its author. Your output should look something like the following, including the quotation marks: Albert Einstein once said, “A person who never made a mistake never tried anything new.”\n",
    "\n",
    "print(' Albert Einstein once said, “A person who never made a mistake never tried anything new.” ')"
   ]
  },
  {
   "cell_type": "code",
   "execution_count": 7,
   "metadata": {},
   "outputs": [
    {
     "name": "stdout",
     "output_type": "stream",
     "text": [
      "Albert Einstien A person who never made a mistake never tried anything new.\n"
     ]
    }
   ],
   "source": [
    "## Repeat Above Exercise, but this time store the famous person’s name in a variable called famous_person. Then compose your message and store it in a new variable called message.Print your message.6.\n",
    "\n",
    "famous_person = \"Albert Einstien\"\n",
    "message = \"A person who never made a mistake never tried anything new.\"\n",
    "print(famous_person,message)"
   ]
  },
  {
   "cell_type": "code",
   "execution_count": 8,
   "metadata": {},
   "outputs": [
    {
     "name": "stdout",
     "output_type": "stream",
     "text": [
      "8\n",
      "8\n",
      "8\n",
      "8\n"
     ]
    }
   ],
   "source": [
    "## Write addition, subtraction, multiplication, and division operations that each result in the number 8.\n",
    "## Your output should simply be four lines with the number 8 appearing once on each line.\n",
    "print(4*2)\n",
    "print(int(16/2))\n",
    "print(4+4)\n",
    "print(16-8)"
   ]
  },
  {
   "cell_type": "code",
   "execution_count": 9,
   "metadata": {},
   "outputs": [
    {
     "name": "stdout",
     "output_type": "stream",
     "text": [
      "My favourite number is  23\n"
     ]
    }
   ],
   "source": [
    "## Store your favouritenumber in a variable.Then, using that variable, create a message that reveals your favour itenumber.\n",
    "## Print that message. \n",
    "\n",
    "fav_no = 23\n",
    "print('My favourite number is ',fav_no)"
   ]
  },
  {
   "cell_type": "code",
   "execution_count": 10,
   "metadata": {},
   "outputs": [
    {
     "name": "stdout",
     "output_type": "stream",
     "text": [
      "RAM\n",
      "SHAM\n",
      "RAJ\n"
     ]
    }
   ],
   "source": [
    "## Store the names of a few of your friends in a list called names.\n",
    "## Print each person’s name by accessing each element in the list, one at a time.\n",
    "\n",
    "names = ['RAM','SHAM','RAJ']\n",
    "print(names[0])\n",
    "print(names[1])\n",
    "print(names[2])"
   ]
  },
  {
   "cell_type": "code",
   "execution_count": 12,
   "metadata": {},
   "outputs": [
    {
     "name": "stdout",
     "output_type": "stream",
     "text": [
      "RAM , bro stay safe , stay home.\n",
      "SHAM , bro stay safe , stay home.\n",
      "RAJ , bro stay safe , stay home.\n"
     ]
    }
   ],
   "source": [
    "## Store the names of a few of your friends in a list called names.\n",
    "## Print each person’s name by accessing each element in the list, one at a time.\n",
    "\n",
    "names = ['RAM','SHAM','RAJ']\n",
    "print(names[0],', bro stay safe , stay home.')\n",
    "print(names[1],', bro stay safe , stay home.')\n",
    "print(names[2],', bro stay safe , stay home.')"
   ]
  },
  {
   "cell_type": "code",
   "execution_count": 14,
   "metadata": {},
   "outputs": [
    {
     "name": "stdout",
     "output_type": "stream",
     "text": [
      "I would like to own a duke 200 and i will work hard achieve to get it.\n",
      "I would like to own a Discovery Range Rover and i will work hard achieve to get it.\n"
     ]
    }
   ],
   "source": [
    "## Q11\n",
    "## Think of your favouritemode of transportation, such as a motorcycle or a car, and make a list that stores several examples.\n",
    "## Use your list to print a series of statements about these items, such as “I would like to own a Honda motorcycle.”\n",
    "\n",
    "transportation_mode = ['duke 200','Discovery Range Rover']\n",
    "for element in transportation_mode: print('I would like to own a ' + element + ' and i will work hard achieve to get it.')"
   ]
  },
  {
   "cell_type": "code",
   "execution_count": null,
   "metadata": {},
   "outputs": [],
   "source": []
  }
 ],
 "metadata": {
  "kernelspec": {
   "display_name": "Python 3",
   "language": "python",
   "name": "python3"
  },
  "language_info": {
   "codemirror_mode": {
    "name": "ipython",
    "version": 3
   },
   "file_extension": ".py",
   "mimetype": "text/x-python",
   "name": "python",
   "nbconvert_exporter": "python",
   "pygments_lexer": "ipython3",
   "version": "3.7.6"
  }
 },
 "nbformat": 4,
 "nbformat_minor": 4
}
